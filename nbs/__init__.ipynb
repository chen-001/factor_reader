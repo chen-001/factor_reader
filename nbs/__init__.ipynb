{
 "cells": [
  {
   "attachments": {},
   "cell_type": "markdown",
   "metadata": {},
   "source": [
    "# __init__\n",
    "\n",
    "> 读取因子数据的核心模块"
   ]
  },
  {
   "cell_type": "code",
   "execution_count": null,
   "metadata": {},
   "outputs": [],
   "source": [
    "#| default_exp __init__"
   ]
  },
  {
   "cell_type": "code",
   "execution_count": null,
   "metadata": {},
   "outputs": [],
   "source": [
    "#| export\n",
    "import numpy as np\n",
    "import pandas as pd\n",
    "import deeplake\n",
    "from loguru import logger\n",
    "import tqdm"
   ]
  },
  {
   "cell_type": "code",
   "execution_count": null,
   "metadata": {},
   "outputs": [],
   "source": [
    "#| hide\n",
    "from nbdev.showdoc import *"
   ]
  },
  {
   "cell_type": "code",
   "execution_count": null,
   "metadata": {},
   "outputs": [],
   "source": [
    "#| export\n",
    "def __initialize_factor(fac_key:str,fac_df:pd.DataFrame,token:str):\n",
    "    '''请勿使用此函数'''\n",
    "    ds_object = deeplake.load(\"hub://chenzongwei/factor\",token=token)\n",
    "    '''处理df数据的部分'''\n",
    "    fac_df.index=fac_df.index.strftime('%Y%m%d').astype(int)\n",
    "    fac_df.columns=fac_df.columns.str.slice(start=0,stop=-3).astype(int)\n",
    "    fac_df=fac_df.stack().reset_index()\n",
    "    fac_df.columns=['date','code','fac']\n",
    "    dates=fac_df.iloc[:,0]\n",
    "    dates=sorted(list(set(dates)))\n",
    "    '''创建新的group和tensor'''\n",
    "    ds_object.create_group(fac_key)\n",
    "    ds_object[fac_key].create_tensor('value')\n",
    "    ds_object[fac_key].create_tensor('date', htype = 'class_label')\n",
    "    logger.success('已经成功创建新的group和tensor')\n",
    "    '''每天写入'''\n",
    "    for date in tqdm.auto.tqdm(dates):\n",
    "        son=fac_df[fac_df.date==date].to_numpy()\n",
    "        ds_object[fac_key].append({'value':son,'date':date})\n",
    "    logger.success(f'{dates[0]}到{dates[-1]}的数据全部写入完成了')"
   ]
  },
  {
   "cell_type": "code",
   "execution_count": null,
   "metadata": {},
   "outputs": [],
   "source": [
    "#| export\n",
    "def update_factor(fac_key:str,fac_df:pd.DataFrame,token:str):\n",
    "    '''请勿使用此函数'''\n",
    "    ds_object = deeplake.load(\"hub://chenzongwei/factor\",token=token)\n",
    "    '''找到最近新增的部分，处理df数据的部分'''\n",
    "    old_dates=[i[0] for i in ds_object[fac_key].date.numpy().tolist()]\n",
    "    new_dates=[i for i in list(fac_df.index) if i not in [pd.Timestamp(str(j)) for j in old_dates]]\n",
    "    fac_df=fac_df[fac_df.index.isin(new_dates)]\n",
    "    fac_df.index=fac_df.index.strftime('%Y%m%d').astype(int)\n",
    "    fac_df.columns=fac_df.columns.str.slice(start=0,stop=-3).astype(int)\n",
    "    fac_df=fac_df.stack().reset_index()\n",
    "    fac_df.columns=['date','code','fac']\n",
    "    dates=fac_df.iloc[:,0]\n",
    "    dates=sorted(list(set(dates)))\n",
    "    if len(dates)>0:\n",
    "        '''每天更新写入'''\n",
    "        for date in tqdm.auto.tqdm(dates):\n",
    "            son=fac_df[fac_df.date==date].to_numpy()\n",
    "            ds_object[fac_key].append({'value':son,'date':date})\n",
    "        logger.success(f'{dates[0]}到{dates[-1]}的数据全部更新完成了')\n",
    "    else:\n",
    "        logger.warning('已经是最新的了，无需更新')"
   ]
  },
  {
   "cell_type": "code",
   "execution_count": null,
   "metadata": {},
   "outputs": [],
   "source": [
    "#| export\n",
    "def read_factor(fac_key:str,token:str,start_date:int=None,end_date:int=None)->pd.DataFrame:\n",
    "    \"\"\"通过表名，读取因子数据\n",
    "\n",
    "    Parameters\n",
    "    ----------\n",
    "    fac_key : str\n",
    "        表的名称\n",
    "    token : str\n",
    "        验证码\n",
    "    start_date : int, optional\n",
    "        读取因子值的起始日期，形如20130101, by default None\n",
    "    end_date : int, optional\n",
    "        读取因子值的终止日期，形如20221231, by default None\n",
    "\n",
    "    Returns\n",
    "    -------\n",
    "    pd.DataFrame\n",
    "        因子值，index为每天的日期，columns为股票代码，values为因子值\n",
    "    \"\"\"    \n",
    "    def wind_code(x):\n",
    "        if x[0] in ['0','3']:\n",
    "            return x+'.SZ'\n",
    "        elif x[0]=='6':\n",
    "            return x+'.SH'\n",
    "        elif x[0]=='8':\n",
    "            return x+'.BJ'\n",
    "        else:\n",
    "            return x+'.UN'\n",
    "    ds_object = deeplake.load(\"hub://chenzongwei/factor\",token=token)\n",
    "    '''找到起止日期的序号'''\n",
    "    all_dates=[i[0] for i in ds_object[fac_key].date.numpy().tolist()]\n",
    "    if start_date is not None:\n",
    "        start_date=[i for i in all_dates if i<=start_date][-1]\n",
    "        start_num=all_dates.index(start_date)\n",
    "    else:\n",
    "        start_num=0\n",
    "    if end_date is not None:\n",
    "        end_date=[i for i in all_dates if i>=end_date][0]\n",
    "        fac_data=np.vstack(ds_object[fac_key].value[start_num:(all_dates.index(end_date)+1)].numpy(aslist=True))\n",
    "    else:\n",
    "        fac_data=np.vstack(ds_object[fac_key].value[start_num:].numpy(aslist=True))\n",
    "    '''整理数据'''\n",
    "    fac_data=pd.DataFrame(fac_data,columns=['date','code',fac_key])\n",
    "    fac_data.date=pd.to_datetime(fac_data.date.astype(int).astype(str),format='%Y%m%d')\n",
    "    fac_data.code=fac_data.code.astype(int).astype(str).str.zfill(6)\n",
    "    fac_data=fac_data.pivot(index='date',columns='code',values=fac_key)\n",
    "    fac_data.columns=[wind_code(i) for i in list(fac_data.columns)]\n",
    "    return fac_data"
   ]
  },
  {
   "cell_type": "code",
   "execution_count": null,
   "metadata": {},
   "outputs": [],
   "source": [
    "#| hide\n",
    "import nbdev; nbdev.nbdev_export()"
   ]
  }
 ],
 "metadata": {
  "kernelspec": {
   "display_name": "Python 3",
   "language": "python",
   "name": "python3"
  }
 },
 "nbformat": 4,
 "nbformat_minor": 4
}
