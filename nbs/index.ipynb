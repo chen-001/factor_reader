{
 "cells": [
  {
   "cell_type": "markdown",
   "metadata": {},
   "source": [
    "# factor_reader\n",
    "\n",
    "> a tool to read stock factor data for quants"
   ]
  },
  {
   "attachments": {},
   "cell_type": "markdown",
   "metadata": {},
   "source": [
    "# 相关链接\n",
    "* [说明文档](https://chen-001.github.io/factor_reader/) \n",
    "* [pypi](https://pypi.org/project/factor-reader/)"
   ]
  },
  {
   "attachments": {},
   "cell_type": "markdown",
   "metadata": {},
   "source": [
    "## 安装"
   ]
  },
  {
   "cell_type": "markdown",
   "metadata": {},
   "source": [
    "```sh\n",
    "pip install factor_reader\n",
    "```"
   ]
  },
  {
   "attachments": {},
   "cell_type": "markdown",
   "metadata": {},
   "source": [
    "## 使用"
   ]
  },
  {
   "attachments": {},
   "cell_type": "markdown",
   "metadata": {},
   "source": [
    "factor_reader目前共包含两个功能：    \n",
    "1. 查看目前包含哪些因子，以及每个因子的基本信息    \n",
    "2. 读取某一因子在某段时间上的因子数据"
   ]
  },
  {
   "attachments": {},
   "cell_type": "markdown",
   "metadata": {},
   "source": [
    "第一步：查看目前数据库中有哪些因子\n",
    "```python\n",
    "import factor_reader\n",
    "\n",
    "# 需要token请与作者联系\n",
    "token='xxxxxxxxxx'  \n",
    "info=factor_reader.show_all_factors_information(token)\n",
    "```"
   ]
  },
  {
   "attachments": {},
   "cell_type": "markdown",
   "metadata": {},
   "source": [
    "第二步：读取某个因子在某个时间段的数据\n",
    "```python\n",
    "import factor_reader\n",
    "\n",
    "# 需要token请与作者联系\n",
    "token='xxxxxxxxxx' \n",
    "\n",
    "# 读取键名为factor1的因子在2013年1月1日至2022年12月31日间的因子数据\n",
    "data1=factor_reader.read_factor('factor1',token=token,start_date=20130101,end_date=20221231) \n",
    "\n",
    "# 读取键名为factor4的因子在2023年1月13日的因子数据\n",
    "data2=factor_reader.read_factor('factor4',token=token,trade_date=20230113) \n",
    "\n",
    "# 读取键名为factor5的因子全部的因子数据\n",
    "data3=factor_reader.read_factor('factor5',token=token) \n",
    "```"
   ]
  }
 ],
 "metadata": {
  "kernelspec": {
   "display_name": "Python 3",
   "language": "python",
   "name": "python3"
  }
 },
 "nbformat": 4,
 "nbformat_minor": 4
}
