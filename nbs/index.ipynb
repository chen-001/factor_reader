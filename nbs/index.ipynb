{
 "cells": [
  {
   "cell_type": "markdown",
   "metadata": {},
   "source": [
    "# factor_reader\n",
    "\n",
    "> a tool to read stock factor data for quants"
   ]
  },
  {
   "attachments": {},
   "cell_type": "markdown",
   "metadata": {},
   "source": [
    "# 相关链接\n",
    "* [说明文档](https://chen-001.github.io/factor_reader/) \n",
    "* [pypi](https://pypi.org/project/factor-reader/)\n",
    "* [Github](https://github.com/chen-001/factor_reader)"
   ]
  },
  {
   "attachments": {},
   "cell_type": "markdown",
   "metadata": {},
   "source": [
    "## 安装与升级"
   ]
  },
  {
   "attachments": {},
   "cell_type": "markdown",
   "metadata": {},
   "source": [
    "* 首次安装\n",
    "```sh\n",
    "pip install factor_reader\n",
    "```\n",
    "* 升级\n",
    "```sh\n",
    "pip install factor_reader --upgrade\n",
    "```"
   ]
  },
  {
   "attachments": {},
   "cell_type": "markdown",
   "metadata": {},
   "source": [
    "## 使用"
   ]
  },
  {
   "attachments": {},
   "cell_type": "markdown",
   "metadata": {},
   "source": [
    "factor_reader目前共包含两个功能：    \n",
    "1. 查看目前包含哪些因子，以及每个因子的基本信息    \n",
    "2. 读取某一因子在某段时间上的因子数据"
   ]
  },
  {
   "attachments": {},
   "cell_type": "markdown",
   "metadata": {},
   "source": [
    "```python\n",
    "import factor_reader\n",
    "\n",
    "# 第一步：实例化一个FactorReader对象，输入token\n",
    "token='xxxxxxxxxx'\n",
    "fr=factor_reader.FactorReader(token)  \n",
    "\n",
    "# 第二步：查看当前因子数据库中有哪些因子（此步骤可选）\n",
    "fr.show_all_factors_information() # 展示所有可读取因子的相关信息\n",
    "\n",
    "# 第三步：读取因子数据\n",
    "## ①读取单日单个因子的数据\n",
    "fr.read_factor('球队硬币',trade_date=20230113) # 读取球队硬币因子在2023年1月13日的因子数据\n",
    "fr.read_factor('factor4',trade_date=20230113) # 读取方正金工多因子系列第4篇的因子在2023年1月13日的因子数据\n",
    "\n",
    "## ②读取多个交易日单个因子的数据\n",
    "fr.read_factor('球队硬币',start_date=20230101,end_date=20230113) # 读取球队硬币因子从2023年1月1日至2023年1月13日的因子数据\n",
    "fr.read_factor('factor4',start_date=20230101,end_date=20230113,sql_like=True) # 以sql的形式，读取方正金工多因子系列第4篇的因子从2023年1月1日至2023年1月13日的因子数据\n",
    "\n",
    "## ③读取多个交易日多个因子的因子数据\n",
    "fr.read_factor(['球队硬币','云开雾散'],start_date=20230101,end_date=20230113) # 分别读取球队硬币因子和云开雾散因子从2023年1月1日至2023年1月13日的因子数据\n",
    "fr.read_factor(['球队硬币','云开雾散','飞蛾扑火'],start_date=20230101,end_date=20230113,sql_like=True) # 以sql的形式，分别读取球队硬币因子、云开雾散因子、飞蛾扑火因子从2023年1月1日至2023年1月13日的因子数据\n",
    "fr.read_factor(['球队硬币','云开雾散','飞蛾扑火'],trade_date=20230113,sql_like=True) # 以sql的形式，分别读取球队硬币因子、云开雾散因子、飞蛾扑火因子2023年1月13日的因子数据\n",
    "```"
   ]
  }
 ],
 "metadata": {
  "kernelspec": {
   "display_name": "Python 3",
   "language": "python",
   "name": "python3"
  }
 },
 "nbformat": 4,
 "nbformat_minor": 4
}
